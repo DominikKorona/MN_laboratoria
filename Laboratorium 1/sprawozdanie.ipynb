{
 "cells": [
  {
   "cell_type": "markdown",
   "metadata": {
    "slideshow": {
     "slide_type": "notes"
    }
   },
   "source": [
    "# <center>Laboratorium 1<br>Metody Numeryczne</center>"
   ]
  },
  {
   "cell_type": "markdown",
   "metadata": {},
   "source": [
    "Biblioteki niezbędne do wykonania zadania:\n",
    "\n",
    "(wykonanie tego bloku zapewnia do nich dostęp w kolejnych blokach)"
   ]
  },
  {
   "cell_type": "code",
   "execution_count": 1,
   "metadata": {},
   "outputs": [],
   "source": [
    "#!/usr/bin/python\n",
    "# -*- coding: utf-8 -*-\n",
    "import main\n",
    "import numpy as np\n",
    "import scipy\n",
    "import pandas as pd\n",
    "import math"
   ]
  },
  {
   "cell_type": "markdown",
   "metadata": {},
   "source": [
    "***Zadanie 1.***  \n",
    "Zaimplementuj funkcję $cylinder\\_area$ tak by zwracała pole powierzchni walca o promieniu podstawy $r$ i wysokości $h$. Stała $\\pi$ jest zdefiniowana np. w bibliotece *[math](https://docs.python.org/3/library/math.html#constants)*. Jeżeli nie da się policzyć pola funkcja powinna zwracać wartość *NaN*. Sprawdź działanie zaimplementowanej funkcji dla dowolnych wartości w tym notatniku."
   ]
  },
  {
   "cell_type": "code",
   "execution_count": 2,
   "metadata": {},
   "outputs": [
    {
     "name": "stdout",
     "output_type": "stream",
     "text": [
      "1256.6370614359173\n",
      "nan\n"
     ]
    }
   ],
   "source": [
    "print(main.cylinder_area(10,10))\n",
    "print(main.cylinder_area(-10,10))"
   ]
  },
  {
   "cell_type": "markdown",
   "metadata": {},
   "source": [
    "***Zadanie 2.***  \n",
    "Wygeneruj dowolne ciągi arytmetyczny o kroku różnym od jeden i niebędącym liczbą całkowitą, używając w tym celu funkcji *[arange](https://docs.scipy.org/doc/numpy/reference/generated/numpy.arange.html)* oraz *[linspace](https://docs.scipy.org/doc/numpy-1.10.0/reference/generated/numpy.linspace.html)*. Wypisz go i przeanalizuj otrzymane rezultaty."
   ]
  },
  {
   "cell_type": "code",
   "execution_count": 3,
   "metadata": {},
   "outputs": [
    {
     "name": "stdout",
     "output_type": "stream",
     "text": [
      "Za pomoca funkcji arange:\n",
      " [0.091 0.191 0.291 0.391 0.491 0.591 0.691 0.791 0.891 0.991]\n",
      "Za pomoca funkcji linspace:\n",
      " [0.091  0.2425 0.394  0.5455 0.697  0.8485]\n"
     ]
    }
   ],
   "source": [
    "#Za pomoca fukcji arange\n",
    "print(\"Za pomoca funkcji arange:\\n\",np.arange(0.091, 1.0, 0.1))\n",
    "#Za pomoca funkcji linspace\n",
    "print(\"Za pomoca funkcji linspace:\\n\",np.linspace(0.091, 1.0, num = 6, endpoint=False))"
   ]
  },
  {
   "cell_type": "markdown",
   "metadata": {},
   "source": [
    "***Komentarz***  \n",
    "Uzycie funkcji arange umozliwia tworzenia tablicy z zadaniem poczatku, konca oraz kroku.\n",
    "W prosty sposob mozna tworzyc \"kontrolowane\" przez nas listy\n",
    "\n",
    "Troszke inne rezultaty daje funkcja linspace, gdzie zadalem argumenty poczatku, konca oraz ilosci elementow.\n",
    "Za pomoca tej funkcji mozna podzielic tablice po rowno nie muszac przeliczac wczesniej"
   ]
  },
  {
   "cell_type": "markdown",
   "metadata": {},
   "source": [
    "***Zadanie 3.***  \n",
    "Zaimplementuj funkcję $fib$ zwracającą wektor pierszych n elementów *[ciągu Fibonnaciego](https://pl.wikipedia.org/wiki/Ci%C4%85g_Fibonacciego)*, jeżeli nie jest to możliwe funkcja powinna zwrócić wartość *None*."
   ]
  },
  {
   "cell_type": "code",
   "execution_count": 5,
   "metadata": {},
   "outputs": [
    {
     "name": "stdout",
     "output_type": "stream",
     "text": [
      "[[ 1.  1.  2.  3.  5.  8. 13.]]\n",
      "None\n",
      "None\n"
     ]
    }
   ],
   "source": [
    "print(main.fib(7))   #7 pierwszych wyrazow\n",
    "print(main.fib(-2))\n",
    "print(main.fib(3.0))"
   ]
  },
  {
   "cell_type": "markdown",
   "metadata": {},
   "source": [
    "***Komentarz***  \n",
    "Za pomocą komendy print wypisałem 7 pierwszych wyrazów ciągu fibonnaciego z celowo powtórzoną jedynką. Za pomocą odkrytej funkcji np.append dodawałem co każde przejście pętli jeden wyraz ciągu fibonacciego do wektora tworząc całość "
   ]
  },
  {
   "cell_type": "markdown",
   "metadata": {},
   "source": [
    "***Zadanie 4.***  \n",
    "Napisz funkję $matrix\\_calculations$ która jako argument przyjmuje dowolną wartość liczbową *a* i tworzy macierz:  \n",
    "  \n",
    "$\\mathbf{M} =\\left[ \\begin{matrix}\n",
    "a & 1 & -a\\\\\n",
    "0 & 1 & 1\\\\\n",
    "-a & a & 1\n",
    "\\end{matrix}\\right]\n",
    "$    \n",
    "   \n",
    "Dla zadeklarowanej macierzy wyznacz numerycznie macierz odwrotną $\\mathbf{Minv}$ (jeżeli nie istnieje taka macierz wartość wynosi NaN), macierz transponowaną $\\mathbf{Mt}$ i wyznacznik macierzy $\\mathbf{Mdet}$. Zwróć otrzymane wartości w postaci krotki postaci $(\\mathbf{Minv}, \\mathbf{Mt}, \\mathbf{Mdet})$.  Wypisz otrzymane wyniki. \n",
    "  \n",
    "***Wskazówki:*** Do tworzenia obiektów mających własności macierzy w języku Python używa się klasy *[array](https://docs.scipy.org/doc/numpy-1.15.1/reference/generated/numpy.array.html)* z pakietu *[numpy](http://www.numpy.org/)*, przykładowe użycie:"
   ]
  },
  {
   "cell_type": "code",
   "execution_count": 6,
   "metadata": {},
   "outputs": [
    {
     "data": {
      "text/plain": [
       "(array([[ 0.08,  0.52, -0.12],\n",
       "        [ 0.1 ,  0.4 ,  0.1 ],\n",
       "        [-0.1 ,  0.6 , -0.1 ]]),\n",
       " array([[ 5,  0, -5],\n",
       "        [ 1,  1,  5],\n",
       "        [-5,  1,  1]]),\n",
       " -49.99999999999997)"
      ]
     },
     "execution_count": 6,
     "metadata": {},
     "output_type": "execute_result"
    }
   ],
   "source": [
    "main.matrix_calculations(5)"
   ]
  },
  {
   "cell_type": "markdown",
   "metadata": {},
   "source": [
    "***Komentarz***  \n",
    "Miejce, które może zwrócić uwage to wyliczony wyznacznik macierzy jako trzeci element krotki, który normalnie wynosi 50, a za pomocą funkcji np.linalg.det() jest jedynie bliski tej liczby, prawdopodobnie jest to przybliżenie ale nie mam do końca pewności dlaczego tak wychodzi"
   ]
  },
  {
   "cell_type": "markdown",
   "metadata": {},
   "source": [
    "***Zadanie 5.***  \n",
    "Stwórz w noataniku macierz:  \n",
    "$\\mathbf{M} =\\left[ \\begin{matrix}\n",
    "3 & 1 & -2 & 4\\\\\n",
    "0 & 1 & 1 & 5\\\\\n",
    "-2 & 1 & 1 & 6\\\\\n",
    "4 & 3 & 0 & 1\\\\\n",
    "\\end{matrix}\\right]\n",
    "$   \n",
    "Wypisz przy pomocy funkcji *print* następujące elementy macierzy $\\mathbf{M}$: $\\mathbf{M}_{1,1},\\mathbf{M}_{3,3},\\mathbf{M}_{3,2}$. Zdefiniuj wektor $\\mathbf{w1}$ którego elementy to trzecia kolumna macierzy $\\mathbf{M}$ oraz wektor $\\mathbf{w2}$ który składa się z drugiego wiersza tej macierzy.  \n",
    "  \n",
    "***Wskazówki:***\n",
    "Tablice z pakietu *numpy* są indeksowane od zera a do każdego elementu można odwołać się poprzez jego indeks. Przykład użycie\n"
   ]
  },
  {
   "cell_type": "code",
   "execution_count": 7,
   "metadata": {},
   "outputs": [
    {
     "name": "stdout",
     "output_type": "stream",
     "text": [
      "1\n",
      "1\n",
      "0\n"
     ]
    }
   ],
   "source": [
    "m = np.array([[3,1,-2,4],[0,1,1,5],[-2,1,1,6],[4,3,0,1]])\n",
    "print(m[1,1])\n",
    "print(m[3,3])\n",
    "print(m[3,2])\n",
    "w1 = m[:,2]\n",
    "w2 = m[1,:]"
   ]
  },
  {
   "cell_type": "markdown",
   "metadata": {},
   "source": [
    "Dodatkowo twórcy biblioteki umożliwiają użytkownikowi na manipulację elementami tablicy poprzez operator ':', więcej szczegółów na temat jego użycia w artykule [NumPy for Matlab users](https://docs.scipy.org/doc/numpy/user/numpy-for-matlab-users.html#numpy-for-matlab-users)."
   ]
  },
  {
   "cell_type": "markdown",
   "metadata": {},
   "source": [
    "***Zadanie 6.***   \n",
    "Uzupełnij funkcję $custom\\_matrix$, tak by parametry m, n określały wymiary macierzy wynikowej, która\n",
    "będzie wypełniona w/g algorytmu: jeśli indeks wiersza jest większy od indeksu kolumny\n",
    "wartością komórki jest indeks wiersza, w przeciwnym wypadku wartością komórki jest indeks\n",
    "kolumny. Funkcja jako wynik powinna zwracać uzupełnioną macierz, jeżeli nie jest to możliwe to powinna zwrócić *None*. Na koniec wyświetlić wynikową macierz dla dowolnych argumentów $m$, $n$ z przedziału $\\langle3,7\\rangle$.\n",
    "  \n",
    "***Wskazówka:*** Inicjalizacja pustej macierz wykonywana jest w pakiecie Numpy przy pomocy funkcji  *[zeros](https://docs.scipy.org/doc/numpy-1.15.0/reference/generated/numpy.zeros.html)*, zaś macierzy składającej się z jedynek *[ones](https://docs.scipy.org/doc/numpy/reference/generated/numpy.ones.html)*."
   ]
  },
  {
   "cell_type": "code",
   "execution_count": 10,
   "metadata": {},
   "outputs": [
    {
     "name": "stdout",
     "output_type": "stream",
     "text": [
      "[[0. 1. 2. 3. 4. 5.]\n",
      " [1. 1. 2. 3. 4. 5.]\n",
      " [2. 2. 2. 3. 4. 5.]\n",
      " [3. 3. 3. 3. 4. 5.]]\n",
      "None\n"
     ]
    }
   ],
   "source": [
    "print(main.custom_matrix(4,6))\n",
    "print(main.custom_matrix(4.0,6))"
   ]
  },
  {
   "cell_type": "markdown",
   "metadata": {},
   "source": [
    "***Komentarz***  \n",
    "Za pomocą funkcji np.zeros() zainicjalizowałem macierz o wymiarach m x n wypełniając ją zerami, a do funkcji przekazałem krotke. Nastepnie dla każego indeksu sprawdzałem warunki i zmienialem wartości "
   ]
  },
  {
   "cell_type": "markdown",
   "metadata": {},
   "source": [
    "***Zadanie 7.***\n",
    "\n",
    "Biblioteka Numpy posiada własne metody, pozwalające na szybsze i wygotniejsze wykonywanie operacji na wektorach i macierzach. Kolejne zadania mają na celu przećwiczenie tych metod. Zamiast samemu implementować mnożenie macierzy, należy skorzystać właśnie z wbudowanych funkcji Numpy. Najbardzie podstawowe z nich to *[np.multiply](https://docs.scipy.org/doc/numpy-1.15.0/reference/generated/numpy.multiply.html)*, *[np.dot](https://docs.scipy.org/doc/numpy-1.15.0/reference/generated/numpy.dot.html)* oraz *[np.matmul](https://docs.scipy.org/doc/numpy-1.15.1/reference/generated/numpy.matmul.html)*. Przed wykonaniem zadania należy zapoznać się z ich dokumentacją, aby stosować poprawną funkcję do danego typu mnożenia. Dodatkowo ciekawą i użyteczną funkcjonalnością Numpy, wykorzystywaną niekiedy przy dodawaniu macierzy jest *broadcasting*, proszę o zapoznaie się z opisem:  *[[1]](https://docs.scipy.org/doc/numpy-1.15.0/user/basics.broadcasting.html)* *[[2]](https://www.tutorialspoint.com/numpy/numpy_broadcasting.htm)*.\n",
    "\n",
    "Zainicjalizować dwa wektory $v_1$ i $v_2$:\n",
    "\n",
    "$v_1 = \\begin{bmatrix}1\\\\3\\\\13\\end{bmatrix} \\quad v_2 = \\begin{bmatrix}8\\\\5\\\\-2\\end{bmatrix}$\n",
    "\n",
    "Następnie wykonać operacje i wypisać ich wynik:\n",
    "- $4*v_1$\n",
    "- $-v_2 + \\begin{bmatrix}2\\\\2\\\\2\\end{bmatrix}$\n",
    "- $v_1 \\circ v_2$ (w sensie mnożenia macierzy, tzw. mnożenie macierzy w sensie Cauchy’ego)\n",
    "- $v_1 * v_2$ (w sensie mnożenia Hadamarda (element-wise))\n",
    "\n",
    "***Wskazówki:*** Warto wiedzieć o *[np.dot](https://docs.scipy.org/doc/numpy-1.15.0/reference/generated/numpy.dot.html)* i *[np.multiply](https://docs.scipy.org/doc/numpy-1.15.0/reference/generated/numpy.multiply.html)*. Zbadać jak zachowuje się przeciążony operator mnożenia $*$ oraz $@$ dla macierzy $ndarray$."
   ]
  },
  {
   "cell_type": "code",
   "execution_count": 8,
   "metadata": {},
   "outputs": [
    {
     "name": "stdout",
     "output_type": "stream",
     "text": [
      "[[ 4]\n",
      " [12]\n",
      " [52]] \n",
      "\n",
      "[[-6]\n",
      " [-3]\n",
      " [ 4]] \n",
      "\n",
      "[[-3]] \n",
      "\n",
      "[[  8]\n",
      " [ 15]\n",
      " [-26]] \n",
      "\n",
      "Przeciazenie operatora na przykladzie wektorow v1 i v2*\n",
      " [[  8]\n",
      " [ 15]\n",
      " [-26]]\n",
      "Przeciazenie operatora @ na przykladzie wektorow v1 i v3\n",
      " [46]\n"
     ]
    }
   ],
   "source": [
    "v1 = np.array([[1],[3],[13]])\n",
    "v2 = np.array([[8],[5],[-2]])        \n",
    "#pierwsza operacja\n",
    "operation_1 = v1*4                                 #skorzystalem z broadcastingu, bo wymiary sie zgadzaja\n",
    "print(operation_1,\"\\n\")\n",
    "#druga operacja\n",
    "operation_2 = -v2 + np.array([[2],[2],[2]])         \n",
    "print(operation_2,\"\\n\")\n",
    "#trzecia operacja\n",
    "operation_3 = np.matmul(np.transpose(v1), v2)\n",
    "print(operation_3,\"\\n\")\n",
    "\n",
    "operation_4 = v1*v2\n",
    "print(operation_4,\"\\n\")\n",
    "#Przeciazenie operatora *\n",
    "print(\"Przeciazenie operatora na przykladzie wektorow v1 i v2*\\n\", v1*v2)\n",
    "#Stworze nowy wektor aby sprawdzic przeciazenie operatora @\n",
    "v3 = np.array([1, 2, 3])\n",
    "print(\"Przeciazenie operatora @ na przykladzie wektorow v1 i v3\\n\",v3@v1)"
   ]
  },
  {
   "cell_type": "markdown",
   "metadata": {},
   "source": [
    "***Komentarz***  \n",
    "W tym zadaniu nie bylo konieczne skorzystanie z funkcji multiply, wystarczylo korzystac z operatorow * oraz @, ale dla przykladu skorzystalem z funkcji np.matmul(), ale mnozenie w sensie Cauchyego nie bylo mozliwe z powodu roznych wymiarow macierzy, dlatego musiałem odwrócić jeden z wektorów  \n",
    "Dzieki przeciazaniu operatorow moglem w prosty sposob wykonac dzialania na macierzach"
   ]
  },
  {
   "cell_type": "markdown",
   "metadata": {},
   "source": [
    "***Zadanie 8.***\n",
    "Zainicjalizować macierz $M_1$:\n",
    "\n",
    "$M_1 = \\begin{bmatrix}1&-7&3\\\\-12&3&4\\\\5&13&-3\\end{bmatrix}$\n",
    "\n",
    "Następnie wykonać operacje i wypisać ich wynik:\n",
    "- $3M_1$\n",
    "- $3M_1 + \\begin{bmatrix}1&1&1\\\\1&1&1\\\\1&1&1\\end{bmatrix}$\n",
    "- $M_1^T$\n",
    "- $M_1 \\circ v_1$ \n",
    "- $v_2^T \\circ M_1$"
   ]
  },
  {
   "cell_type": "code",
   "execution_count": 10,
   "metadata": {},
   "outputs": [
    {
     "name": "stdout",
     "output_type": "stream",
     "text": [
      "Pierwsza operacja\n",
      "[[  3 -21   9]\n",
      " [-36   9  12]\n",
      " [ 15  39  -9]]\n",
      "\n",
      "Druga operacja\n",
      "[[  4. -20.  10.]\n",
      " [-35.  10.  13.]\n",
      " [ 16.  40.  -8.]]\n",
      "\n",
      "Trzecia operacja\n",
      "[[  1 -12   5]\n",
      " [ -7   3  13]\n",
      " [  3   4  -3]]\n",
      "\n",
      "Czwarta operacja\n",
      "[[19]\n",
      " [49]\n",
      " [ 5]]\n",
      "\n",
      "Ostatnia operacja\n",
      "[[-62 -67  50]]\n"
     ]
    }
   ],
   "source": [
    "M1 = np.array([[1,-7,3],[-12,3,4],[5,13,-3]])\n",
    "print(\"Pierwsza operacja\")\n",
    "print(M1*3)\n",
    "print(\"\\nDruga operacja\")\n",
    "print(M1*3 + np.ones((3,3)))\n",
    "print(\"\\nTrzecia operacja\")\n",
    "print(M1.transpose())\n",
    "print(\"\\nCzwarta operacja\")\n",
    "v1 = np.array([[1],[3],[13]])\n",
    "v2 = np.array([[8],[5],[-2]])\n",
    "print(M1@v1)\n",
    "print(\"\\nOstatnia operacja\")\n",
    "print(np.transpose(v2)@M1)"
   ]
  },
  {
   "cell_type": "markdown",
   "metadata": {},
   "source": [
    "***Komentarz***  \n",
    "Wszystkie operacje były możliwe do wykonania za pomocą prostych funkcji i operatorów, warto też zauważyć w jaki sposób został wypisany ostatni wektor, w podwójnych nawiasach."
   ]
  },
  {
   "cell_type": "markdown",
   "metadata": {},
   "source": [
    "# Wnioski\n",
    "-Dane ćwiczenia są dobre na stopniowe wprowadzenie do biblioteki numpy i pandas i zaznajomienie z interpreterem Anaconda, bo na takim pracowałem w Pycharmie.   \n",
    "-Zapoznałem sie z notatnikiem Jupyter, gdzie można w sposób czytelny przedstawiać i komentować kod programistyczny  \n",
    "-Biblioteka numpy ułatwia tworzenie wektorów i macierzy, gdyż nie musimy tworzyć petli w petli i różnych kombinacji  \n",
    "-Problematyczne mogą okazać się wartości jakie przekazujemy do różnych funkcji, takie jak np. przy mnożeniu macierzy w sensie Cauchyego musimy pamiętać o tych samych wymiarach, lub w funkcjach arange() i linspace() żeby nie mylić liczb, ale odpowiedni błąd wyskakuje co można łatwo nadrobić.  \n",
    "-Poznałem wartość numeryczną taką jak NaN - Not a number -która służy do oznaczania wartości niezdefiniowanej lub niereprezentowalej, zwłaszcza w obliczeniach wykorzystujących liczby zmiennoprzecinkowe.  \n",
    "-Przez przypadek odkryłem, aby odwrócić wektor poziomy za pomocą funkcji np.transpose() musze do jej wnętrza dodać nawias kwadratowy, na zasadzie np.transpose( [np.array([1,2,3])] ), lub do stworzonego poziomego wektora dodać ten nawias  \n",
    "-Warto też zwrócić uwage na obliczanie wyznacznika macierzy za pomocą funkcji np.linalg.det(), ponieważ w zadaniu 4 licząc kalkulatorem czy ręcznie wynosi równe -50, a funkcja wyżej zwraca -49.99999999999997, czyli nieprzybliżoną wartość\n",
    "-Do stworzonych macierzy za pomocą biblioteki numpy można w łatwy sposób odwoływać się do odpowiednich indeksów i manipulować nimi, tak jak to jest w tablicach stworzonych za pomocą list  \n",
    "-W mainie aby każda funkcja działała poprawnie, tj. zwracała None jak w poleceniach przy ewentualnych błędach wpisania, np. w funkcji fib() musiałem pamietać, że wpisanie floata powinno zwrócić None, aby problem załatwić poznałem nową funkcje isinstance(n,int) która sprawdza czy n jest int"
   ]
  },
  {
   "cell_type": "markdown",
   "metadata": {},
   "source": [
    "Materiały uzupełniające:\n",
    "- [Scipy Lecture Notes](http://www.scipy-lectures.org/index.html)\n",
    "- [NumPy for Matlab users](https://docs.scipy.org/doc/numpy/user/numpy-for-matlab-users.html#numpy-for-matlab-users)\n",
    "- [Python Tutorial - W3Schools](https://www.w3schools.com/python/default.asp)\n",
    "- [NumPy](https://www.numpy.org)\n",
    "- [Matplotlib](https://matplotlib.org/)\n",
    "- [Anaconda](https://www.anaconda.com/)\n",
    "- [Learn Python for Data Science](https://www.datacamp.com/learn-python-with-anaconda?utm_source=Anaconda_download&utm_campaign=datacamp_training&utm_medium=banner)\n",
    "- [Learn Python](https://www.learnpython.org/)\n",
    "- [Wujek Google](https://google.pl) i [Ciocia Wikipedia](https://pl.wikipedia.org/wiki/Wikipedia:Strona_g%C5%82%C3%B3wna)"
   ]
  }
 ],
 "metadata": {
  "celltoolbar": "Raw Cell Format",
  "kernelspec": {
   "display_name": "Python 3",
   "language": "python",
   "name": "python3"
  },
  "language_info": {
   "codemirror_mode": {
    "name": "ipython",
    "version": 3
   },
   "file_extension": ".py",
   "mimetype": "text/x-python",
   "name": "python",
   "nbconvert_exporter": "python",
   "pygments_lexer": "ipython3",
   "version": "3.8.8"
  }
 },
 "nbformat": 4,
 "nbformat_minor": 2
}
